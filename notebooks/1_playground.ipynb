{
 "cells": [
  {
   "cell_type": "markdown",
   "id": "a1cf33da",
   "metadata": {},
   "source": [
    "# First test"
   ]
  },
  {
   "cell_type": "code",
   "execution_count": 1,
   "id": "ad8523fa",
   "metadata": {},
   "outputs": [],
   "source": [
    "from ultralytics import YOLO"
   ]
  },
  {
   "cell_type": "code",
   "execution_count": 2,
   "id": "7a15e2e7",
   "metadata": {},
   "outputs": [],
   "source": [
    "model = YOLO(\"yolov8n-pose.pt\")"
   ]
  },
  {
   "cell_type": "code",
   "execution_count": 54,
   "id": "2edf0948",
   "metadata": {},
   "outputs": [],
   "source": [
    "VIDEO_PATH = \"../data/videos/conor.mp4\""
   ]
  },
  {
   "cell_type": "code",
   "execution_count": 55,
   "id": "1f91cd77",
   "metadata": {},
   "outputs": [],
   "source": [
    "results = model.track(\n",
    "    source=VIDEO_PATH,\n",
    "    tracker=\"botsort.yaml\",  # config file with re-ID enabled\n",
    "    stream=True,\n",
    "    persist=True,\n",
    "    device='cpu',\n",
    "    save=True\n",
    ")"
   ]
  },
  {
   "cell_type": "code",
   "execution_count": 125,
   "id": "edda4029",
   "metadata": {},
   "outputs": [
    {
     "name": "stdout",
     "output_type": "stream",
     "text": [
      "video 1/1 (frame 49/581) /Users/anar/Desktop/tum/OctaPose/notebooks/../data/videos/conor.mp4: 384x640 3 persons, 44.7ms\n"
     ]
    }
   ],
   "source": [
    "res = next(results)"
   ]
  },
  {
   "cell_type": "code",
   "execution_count": 126,
   "id": "4100a1de",
   "metadata": {},
   "outputs": [
    {
     "data": {
      "text/plain": [
       "tensor([1., 2., 3.])"
      ]
     },
     "execution_count": 126,
     "metadata": {},
     "output_type": "execute_result"
    }
   ],
   "source": [
    "res.boxes.id"
   ]
  },
  {
   "cell_type": "code",
   "execution_count": 8,
   "id": "1388123b",
   "metadata": {},
   "outputs": [],
   "source": [
    "res = results[497]\n"
   ]
  },
  {
   "cell_type": "code",
   "execution_count": 36,
   "id": "af3f8e9c",
   "metadata": {},
   "outputs": [
    {
     "data": {
      "text/plain": [
       "torch.Size([6, 17, 2])"
      ]
     },
     "execution_count": 36,
     "metadata": {},
     "output_type": "execute_result"
    }
   ],
   "source": [
    "res.keypoints.xy.shape"
   ]
  },
  {
   "cell_type": "code",
   "execution_count": 44,
   "id": "9a3a6d62",
   "metadata": {},
   "outputs": [],
   "source": [
    "res1 = results[300]\n"
   ]
  },
  {
   "cell_type": "code",
   "execution_count": 48,
   "id": "88c27aa8",
   "metadata": {},
   "outputs": [
    {
     "data": {
      "text/plain": [
       "ultralytics.engine.results.Keypoints object with attributes:\n",
       "\n",
       "conf: tensor([[0.9772, 0.7322, 0.9756, 0.1241, 0.9459, 0.9852, 0.9982, 0.9472, 0.9968, 0.9162, 0.9905, 0.9989, 0.9995, 0.9955, 0.9984, 0.9760, 0.9864],\n",
       "        [0.9794, 0.9798, 0.7649, 0.9656, 0.1523, 0.9993, 0.9810, 0.9989, 0.9234, 0.9960, 0.8978, 0.9997, 0.9984, 0.9985, 0.9931, 0.9843, 0.9607],\n",
       "        [0.9192, 0.9128, 0.8942, 0.6708, 0.6060, 0.8750, 0.8399, 0.4124, 0.3185, 0.3132, 0.2486, 0.1633, 0.1487, 0.0391, 0.0357, 0.0305, 0.0287]])\n",
       "data: tensor([[[1.7323e+02, 9.3113e+01, 9.7720e-01],\n",
       "         [1.7392e+02, 8.8266e+01, 7.3223e-01],\n",
       "         [1.6954e+02, 8.7936e+01, 9.7563e-01],\n",
       "         [0.0000e+00, 0.0000e+00, 1.2409e-01],\n",
       "         [1.5085e+02, 8.7240e+01, 9.4586e-01],\n",
       "         [1.6963e+02, 1.0430e+02, 9.8517e-01],\n",
       "         [1.2671e+02, 1.1760e+02, 9.9817e-01],\n",
       "         [2.0497e+02, 1.1327e+02, 9.4716e-01],\n",
       "         [1.3315e+02, 1.5420e+02, 9.9675e-01],\n",
       "         [2.2391e+02, 1.0496e+02, 9.1623e-01],\n",
       "         [1.5979e+02, 1.3220e+02, 9.9048e-01],\n",
       "         [1.6646e+02, 1.8548e+02, 9.9885e-01],\n",
       "         [1.3041e+02, 1.9384e+02, 9.9954e-01],\n",
       "         [2.0497e+02, 2.3600e+02, 9.9554e-01],\n",
       "         [1.1654e+02, 2.5518e+02, 9.9841e-01],\n",
       "         [2.0943e+02, 2.8314e+02, 9.7603e-01],\n",
       "         [8.7646e+01, 3.0883e+02, 9.8640e-01]],\n",
       "\n",
       "        [[3.3990e+02, 8.0685e+01, 9.7943e-01],\n",
       "         [3.4751e+02, 7.6299e+01, 9.7981e-01],\n",
       "         [3.4029e+02, 7.4777e+01, 7.6485e-01],\n",
       "         [3.6585e+02, 8.2995e+01, 9.6563e-01],\n",
       "         [0.0000e+00, 0.0000e+00, 1.5231e-01],\n",
       "         [3.8732e+02, 1.1850e+02, 9.9932e-01],\n",
       "         [3.3714e+02, 1.0596e+02, 9.8104e-01],\n",
       "         [4.1395e+02, 1.6271e+02, 9.9891e-01],\n",
       "         [3.0371e+02, 1.1791e+02, 9.2340e-01],\n",
       "         [3.9116e+02, 1.5514e+02, 9.9599e-01],\n",
       "         [2.6870e+02, 1.1634e+02, 8.9783e-01],\n",
       "         [3.8161e+02, 1.8833e+02, 9.9968e-01],\n",
       "         [3.4239e+02, 1.8218e+02, 9.9843e-01],\n",
       "         [4.0737e+02, 2.4040e+02, 9.9850e-01],\n",
       "         [3.1012e+02, 2.3822e+02, 9.9307e-01],\n",
       "         [4.4151e+02, 2.9005e+02, 9.8434e-01],\n",
       "         [2.9918e+02, 2.9476e+02, 9.6072e-01]],\n",
       "\n",
       "        [[2.2783e+02, 9.8063e+01, 9.1922e-01],\n",
       "         [2.3245e+02, 9.3005e+01, 9.1276e-01],\n",
       "         [2.2269e+02, 9.3219e+01, 8.9423e-01],\n",
       "         [2.3934e+02, 9.2672e+01, 6.7081e-01],\n",
       "         [2.1491e+02, 9.3118e+01, 6.0596e-01],\n",
       "         [2.4922e+02, 1.1247e+02, 8.7505e-01],\n",
       "         [2.0738e+02, 1.1318e+02, 8.3994e-01],\n",
       "         [0.0000e+00, 0.0000e+00, 4.1239e-01],\n",
       "         [0.0000e+00, 0.0000e+00, 3.1854e-01],\n",
       "         [0.0000e+00, 0.0000e+00, 3.1316e-01],\n",
       "         [0.0000e+00, 0.0000e+00, 2.4864e-01],\n",
       "         [0.0000e+00, 0.0000e+00, 1.6333e-01],\n",
       "         [0.0000e+00, 0.0000e+00, 1.4866e-01],\n",
       "         [0.0000e+00, 0.0000e+00, 3.9090e-02],\n",
       "         [0.0000e+00, 0.0000e+00, 3.5725e-02],\n",
       "         [0.0000e+00, 0.0000e+00, 3.0495e-02],\n",
       "         [0.0000e+00, 0.0000e+00, 2.8679e-02]]])\n",
       "has_visible: True\n",
       "orig_shape: (360, 640)\n",
       "shape: torch.Size([3, 17, 3])\n",
       "xy: tensor([[[173.2305,  93.1126],\n",
       "         [173.9216,  88.2662],\n",
       "         [169.5439,  87.9363],\n",
       "         [  0.0000,   0.0000],\n",
       "         [150.8461,  87.2397],\n",
       "         [169.6264, 104.3029],\n",
       "         [126.7083, 117.5981],\n",
       "         [204.9738, 113.2656],\n",
       "         [133.1493, 154.2045],\n",
       "         [223.9076, 104.9560],\n",
       "         [159.7900, 132.2029],\n",
       "         [166.4572, 185.4773],\n",
       "         [130.4067, 193.8381],\n",
       "         [204.9715, 236.0024],\n",
       "         [116.5411, 255.1833],\n",
       "         [209.4334, 283.1441],\n",
       "         [ 87.6456, 308.8295]],\n",
       "\n",
       "        [[339.9045,  80.6848],\n",
       "         [347.5050,  76.2989],\n",
       "         [340.2856,  74.7774],\n",
       "         [365.8507,  82.9955],\n",
       "         [  0.0000,   0.0000],\n",
       "         [387.3238, 118.4953],\n",
       "         [337.1353, 105.9641],\n",
       "         [413.9481, 162.7109],\n",
       "         [303.7053, 117.9066],\n",
       "         [391.1623, 155.1398],\n",
       "         [268.7000, 116.3385],\n",
       "         [381.6142, 188.3321],\n",
       "         [342.3941, 182.1762],\n",
       "         [407.3664, 240.4008],\n",
       "         [310.1237, 238.2158],\n",
       "         [441.5078, 290.0464],\n",
       "         [299.1817, 294.7563]],\n",
       "\n",
       "        [[227.8288,  98.0635],\n",
       "         [232.4483,  93.0045],\n",
       "         [222.6945,  93.2186],\n",
       "         [239.3449,  92.6720],\n",
       "         [214.9072,  93.1181],\n",
       "         [249.2212, 112.4691],\n",
       "         [207.3756, 113.1822],\n",
       "         [  0.0000,   0.0000],\n",
       "         [  0.0000,   0.0000],\n",
       "         [  0.0000,   0.0000],\n",
       "         [  0.0000,   0.0000],\n",
       "         [  0.0000,   0.0000],\n",
       "         [  0.0000,   0.0000],\n",
       "         [  0.0000,   0.0000],\n",
       "         [  0.0000,   0.0000],\n",
       "         [  0.0000,   0.0000],\n",
       "         [  0.0000,   0.0000]]])\n",
       "xyn: tensor([[[0.2707, 0.2586],\n",
       "         [0.2718, 0.2452],\n",
       "         [0.2649, 0.2443],\n",
       "         [0.0000, 0.0000],\n",
       "         [0.2357, 0.2423],\n",
       "         [0.2650, 0.2897],\n",
       "         [0.1980, 0.3267],\n",
       "         [0.3203, 0.3146],\n",
       "         [0.2080, 0.4283],\n",
       "         [0.3499, 0.2915],\n",
       "         [0.2497, 0.3672],\n",
       "         [0.2601, 0.5152],\n",
       "         [0.2038, 0.5384],\n",
       "         [0.3203, 0.6556],\n",
       "         [0.1821, 0.7088],\n",
       "         [0.3272, 0.7865],\n",
       "         [0.1369, 0.8579]],\n",
       "\n",
       "        [[0.5311, 0.2241],\n",
       "         [0.5430, 0.2119],\n",
       "         [0.5317, 0.2077],\n",
       "         [0.5716, 0.2305],\n",
       "         [0.0000, 0.0000],\n",
       "         [0.6052, 0.3292],\n",
       "         [0.5268, 0.2943],\n",
       "         [0.6468, 0.4520],\n",
       "         [0.4745, 0.3275],\n",
       "         [0.6112, 0.4309],\n",
       "         [0.4198, 0.3232],\n",
       "         [0.5963, 0.5231],\n",
       "         [0.5350, 0.5060],\n",
       "         [0.6365, 0.6678],\n",
       "         [0.4846, 0.6617],\n",
       "         [0.6899, 0.8057],\n",
       "         [0.4675, 0.8188]],\n",
       "\n",
       "        [[0.3560, 0.2724],\n",
       "         [0.3632, 0.2583],\n",
       "         [0.3480, 0.2589],\n",
       "         [0.3740, 0.2574],\n",
       "         [0.3358, 0.2587],\n",
       "         [0.3894, 0.3124],\n",
       "         [0.3240, 0.3144],\n",
       "         [0.0000, 0.0000],\n",
       "         [0.0000, 0.0000],\n",
       "         [0.0000, 0.0000],\n",
       "         [0.0000, 0.0000],\n",
       "         [0.0000, 0.0000],\n",
       "         [0.0000, 0.0000],\n",
       "         [0.0000, 0.0000],\n",
       "         [0.0000, 0.0000],\n",
       "         [0.0000, 0.0000],\n",
       "         [0.0000, 0.0000]]])"
      ]
     },
     "execution_count": 48,
     "metadata": {},
     "output_type": "execute_result"
    }
   ],
   "source": [
    "res1.keypoints"
   ]
  },
  {
   "cell_type": "code",
   "execution_count": 52,
   "id": "224c82bf",
   "metadata": {},
   "outputs": [
    {
     "data": {
      "text/plain": [
       "ultralytics.engine.results.Boxes object with attributes:\n",
       "\n",
       "cls: tensor([0., 0., 0., 0., 0.])\n",
       "conf: tensor([0.8965, 0.6419, 0.3820, 0.3776, 0.2532])\n",
       "data: tensor([[8.7562e+01, 3.7672e+01, 2.0561e+02, 3.1764e+02, 8.9647e-01, 0.0000e+00],\n",
       "        [3.2832e+02, 7.2840e+01, 4.3125e+02, 3.1894e+02, 6.4188e-01, 0.0000e+00],\n",
       "        [5.5599e+02, 9.5220e+01, 5.9161e+02, 1.4189e+02, 3.8196e-01, 0.0000e+00],\n",
       "        [1.8523e+02, 7.1902e+01, 4.3309e+02, 3.1694e+02, 3.7761e-01, 0.0000e+00],\n",
       "        [5.8472e+02, 9.2733e+01, 6.3751e+02, 1.4549e+02, 2.5317e-01, 0.0000e+00]])\n",
       "id: None\n",
       "is_track: False\n",
       "orig_shape: (360, 640)\n",
       "shape: torch.Size([5, 6])\n",
       "xywh: tensor([[146.5869, 177.6566, 118.0494, 279.9691],\n",
       "        [379.7808, 195.8894, 102.9297, 246.0985],\n",
       "        [573.8021, 118.5531,  35.6206,  46.6654],\n",
       "        [309.1604, 194.4214, 247.8573, 245.0380],\n",
       "        [611.1118, 119.1102,  52.7922,  52.7545]])\n",
       "xywhn: tensor([[0.2290, 0.4935, 0.1845, 0.7777],\n",
       "        [0.5934, 0.5441, 0.1608, 0.6836],\n",
       "        [0.8966, 0.3293, 0.0557, 0.1296],\n",
       "        [0.4831, 0.5401, 0.3873, 0.6807],\n",
       "        [0.9549, 0.3309, 0.0825, 0.1465]])\n",
       "xyxy: tensor([[ 87.5622,  37.6721, 205.6116, 317.6412],\n",
       "        [328.3159,  72.8401, 431.2457, 318.9387],\n",
       "        [555.9918,  95.2204, 591.6124, 141.8858],\n",
       "        [185.2317,  71.9024, 433.0890, 316.9404],\n",
       "        [584.7157,  92.7330, 637.5079, 145.4875]])\n",
       "xyxyn: tensor([[0.1368, 0.1046, 0.3213, 0.8823],\n",
       "        [0.5130, 0.2023, 0.6738, 0.8859],\n",
       "        [0.8687, 0.2645, 0.9244, 0.3941],\n",
       "        [0.2894, 0.1997, 0.6767, 0.8804],\n",
       "        [0.9136, 0.2576, 0.9961, 0.4041]])"
      ]
     },
     "execution_count": 52,
     "metadata": {},
     "output_type": "execute_result"
    }
   ],
   "source": [
    "res1 = results[222]\n",
    "boxes = res1.boxes\n",
    "res1.boxes"
   ]
  },
  {
   "cell_type": "code",
   "execution_count": 49,
   "id": "0c15d173",
   "metadata": {},
   "outputs": [
    {
     "name": "stdout",
     "output_type": "stream",
     "text": [
      "       video  frame_idx                                          bbox_xyxy  \\\n",
      "0  conor.mp4          0  [537.30322265625, 106.665771484375, 591.667602...   \n",
      "1  conor.mp4          0  [71.719970703125, 113.40567016601562, 128.3525...   \n",
      "2  conor.mp4          0  [296.3164367675781, 92.12155151367188, 420.369...   \n",
      "3  conor.mp4          1  [537.9365234375, 106.46627807617188, 591.95312...   \n",
      "4  conor.mp4          1  [71.2704086303711, 114.13068389892578, 128.444...   \n",
      "\n",
      "                                             pose_xy  \\\n",
      "0  [[565.4052734375, 118.2015380859375], [568.813...   \n",
      "1  [[112.25927734375, 126.99967956542969], [0.0, ...   \n",
      "2  [[355.70111083984375, 105.63591766357422], [35...   \n",
      "3  [[565.7646484375, 117.98440551757812], [569.21...   \n",
      "4  [[111.33621978759766, 127.46925354003906], [0....   \n",
      "\n",
      "                                             kp_conf  \n",
      "0  [0.9499058127403259, 0.9430928230285645, 0.852...  \n",
      "1  [0.590756356716156, 0.21158365905284882, 0.645...  \n",
      "2  [0.9501392245292664, 0.8790189623832703, 0.843...  \n",
      "3  [0.9551443457603455, 0.950719952583313, 0.8606...  \n",
      "4  [0.5370655059814453, 0.17334997653961182, 0.59...  \n"
     ]
    }
   ],
   "source": [
    "import pandas as pd\n",
    "\n",
    "df = pd.read_parquet(\"../data/pose_tables/conor.parquet\")\n",
    "print(df.head())"
   ]
  },
  {
   "cell_type": "code",
   "execution_count": 40,
   "id": "cf2d1946",
   "metadata": {},
   "outputs": [
    {
     "data": {
      "text/plain": [
       "tensor([0.8948, 0.8832, 0.4691, 0.2657])"
      ]
     },
     "execution_count": 40,
     "metadata": {},
     "output_type": "execute_result"
    }
   ],
   "source": [
    "boxes.conf"
   ]
  },
  {
   "cell_type": "code",
   "execution_count": 41,
   "id": "d4fd5220",
   "metadata": {},
   "outputs": [
    {
     "data": {
      "text/plain": [
       "ultralytics.engine.results.Boxes object with attributes:\n",
       "\n",
       "cls: tensor([0., 0., 0., 0.])\n",
       "conf: tensor([0.8948, 0.8832, 0.4691, 0.2657])\n",
       "data: tensor([[2.7056e+02, 1.3513e+02, 4.6125e+02, 3.5863e+02, 8.9480e-01, 0.0000e+00],\n",
       "        [1.3999e+02, 5.8287e+01, 2.7886e+02, 3.3348e+02, 8.8317e-01, 0.0000e+00],\n",
       "        [5.4732e+02, 8.4369e+01, 5.9660e+02, 1.5476e+02, 4.6915e-01, 0.0000e+00],\n",
       "        [2.6761e+01, 8.9061e+01, 6.8508e+01, 1.4733e+02, 2.6570e-01, 0.0000e+00]])\n",
       "id: None\n",
       "is_track: False\n",
       "orig_shape: (360, 640)\n",
       "shape: torch.Size([4, 6])\n",
       "xywh: tensor([[365.9062, 246.8773, 190.6856, 223.5004],\n",
       "        [209.4248, 195.8824, 138.8736, 275.1902],\n",
       "        [571.9623, 119.5651,  49.2852,  70.3921],\n",
       "        [ 47.6346, 118.1946,  41.7474,  58.2667]])\n",
       "xywhn: tensor([[0.5717, 0.6858, 0.2979, 0.6208],\n",
       "        [0.3272, 0.5441, 0.2170, 0.7644],\n",
       "        [0.8937, 0.3321, 0.0770, 0.1955],\n",
       "        [0.0744, 0.3283, 0.0652, 0.1619]])\n",
       "xyxy: tensor([[270.5634, 135.1271, 461.2490, 358.6275],\n",
       "        [139.9880,  58.2873, 278.8616, 333.4775],\n",
       "        [547.3197,  84.3690, 596.6049, 154.7611],\n",
       "        [ 26.7609,  89.0613,  68.5083, 147.3279]])\n",
       "xyxyn: tensor([[0.4228, 0.3754, 0.7207, 0.9962],\n",
       "        [0.2187, 0.1619, 0.4357, 0.9263],\n",
       "        [0.8552, 0.2344, 0.9322, 0.4299],\n",
       "        [0.0418, 0.2474, 0.1070, 0.4092]])"
      ]
     },
     "execution_count": 41,
     "metadata": {},
     "output_type": "execute_result"
    }
   ],
   "source": [
    "boxes"
   ]
  },
  {
   "cell_type": "code",
   "execution_count": 43,
   "id": "dc0a1f74",
   "metadata": {},
   "outputs": [
    {
     "data": {
      "text/plain": [
       "(360, 640)"
      ]
     },
     "execution_count": 43,
     "metadata": {},
     "output_type": "execute_result"
    }
   ],
   "source": [
    "boxes.orig_shape"
   ]
  },
  {
   "cell_type": "code",
   "execution_count": 3,
   "id": "6564d74b",
   "metadata": {},
   "outputs": [],
   "source": [
    "import sys\n",
    "sys.path.append(\"..\")"
   ]
  },
  {
   "cell_type": "code",
   "execution_count": 1,
   "id": "40527238",
   "metadata": {},
   "outputs": [],
   "source": [
    "%load_ext autoreload\n",
    "%autoreload 2\n"
   ]
  },
  {
   "cell_type": "code",
   "execution_count": 140,
   "id": "d0628a9d",
   "metadata": {},
   "outputs": [],
   "source": [
    "from src.datasets.pose_triplet_dataset import PoseTripletDataset, collate_triplets\n",
    "# from torch.utils.data import DataLoader\n",
    "import pyarrow.parquet as pq\n",
    "\n",
    "# Load merged table (or do per-file loading manually)\n",
    "table = pq.read_table(\"../data/poses/all_fighters.parquet\")\n",
    "\n",
    "# Create dataset\n",
    "dataset = PoseTripletDataset(table=table)"
   ]
  },
  {
   "cell_type": "code",
   "execution_count": 141,
   "id": "0d4eb47b",
   "metadata": {},
   "outputs": [],
   "source": [
    "from torch.utils.data import DataLoader"
   ]
  },
  {
   "cell_type": "code",
   "execution_count": 142,
   "id": "98d5f871",
   "metadata": {},
   "outputs": [],
   "source": [
    "loader = DataLoader(dataset, batch_size=4, shuffle=True, collate_fn=collate_triplets)\n"
   ]
  },
  {
   "cell_type": "code",
   "execution_count": 143,
   "id": "aa06bd5f",
   "metadata": {},
   "outputs": [
    {
     "name": "stdout",
     "output_type": "stream",
     "text": [
      "dict_keys(['anchor', 'positive', 'negative', 'lengths', 'labels'])\n",
      "anchor: torch.Size([4, 287, 17, 2])\n",
      "positive: torch.Size([4, 287, 17, 2])\n",
      "negative: torch.Size([4, 287, 17, 2])\n",
      "lengths: tensor([287, 287, 287, 287])\n"
     ]
    }
   ],
   "source": [
    "batch = next(iter(loader))\n",
    "print(batch.keys())\n",
    "print(\"anchor:\", batch[\"anchor\"].shape)\n",
    "print(\"positive:\", batch[\"positive\"].shape)\n",
    "print(\"negative:\", batch[\"negative\"].shape)\n",
    "print(\"lengths:\", batch[\"lengths\"])\n"
   ]
  },
  {
   "cell_type": "code",
   "execution_count": 119,
   "id": "41789516",
   "metadata": {},
   "outputs": [
    {
     "name": "stdout",
     "output_type": "stream",
     "text": [
      "sex\n",
      "sex\n",
      "sex\n",
      "sex\n"
     ]
    }
   ],
   "source": [
    "for batch in loader:\n",
    "    # use batch\n",
    "    print('sex')"
   ]
  }
 ],
 "metadata": {
  "kernelspec": {
   "display_name": "octapose-py3.11",
   "language": "python",
   "name": "python3"
  },
  "language_info": {
   "codemirror_mode": {
    "name": "ipython",
    "version": 3
   },
   "file_extension": ".py",
   "mimetype": "text/x-python",
   "name": "python",
   "nbconvert_exporter": "python",
   "pygments_lexer": "ipython3",
   "version": "3.11.5"
  }
 },
 "nbformat": 4,
 "nbformat_minor": 5
}
